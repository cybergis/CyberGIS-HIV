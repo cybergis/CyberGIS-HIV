{
 "cells": [
  {
   "cell_type": "markdown",
   "id": "78e95120",
   "metadata": {
    "id": "78e95120"
   },
   "source": [
    "## CyberGIS-HIV\n",
    "\n",
    "Once the two cells below are executed, the dialog box will be shown like the image below. <br>\n",
    "Follow steps 1, 2, and 3, and click the **Run Model** button to proceed.\n",
    "\n",
    "####  For more information please click <a href=https://cybergis.github.io/CyberGIS_HIV_document/build/index.html> Here </a>.\n",
    "<br>\n",
    "<img src=\"./images/workflow.jpg\" width=\"90%\"/>\n",
    "\n",
    "\n",
    "\n",
    "---"
   ]
  },
  {
   "cell_type": "markdown",
   "id": "52b2d214",
   "metadata": {
    "id": "52b2d214",
    "tags": []
   },
   "source": [
    "## Setup environment"
   ]
  },
  {
   "cell_type": "code",
   "execution_count": null,
   "id": "9d3a83c2",
   "metadata": {
    "id": "9d3a83c2"
   },
   "outputs": [],
   "source": [
    "from Scenario_Analysis_Mapper import Display_GUI"
   ]
  },
  {
   "cell_type": "markdown",
   "id": "ed9ba394",
   "metadata": {
    "id": "ed9ba394"
   },
   "source": [
    "## Run your own model"
   ]
  },
  {
   "cell_type": "code",
   "execution_count": null,
   "id": "a1656d47",
   "metadata": {
    "id": "a1656d47"
   },
   "outputs": [],
   "source": [
    "Display_GUI()"
   ]
  }
 ],
 "metadata": {
  "colab": {
   "name": "Scenario_Analysis_Mapper_withGUI.ipynb",
   "provenance": []
  },
  "kernelspec": {
   "display_name": "RPy-1.0.0",
   "language": "python",
   "name": "rpy-1.0.0"
  },
  "language_info": {
   "codemirror_mode": {
    "name": "ipython",
    "version": 3
   },
   "file_extension": ".py",
   "mimetype": "text/x-python",
   "name": "python",
   "nbconvert_exporter": "python",
   "pygments_lexer": "ipython3",
   "version": "3.8.12"
  }
 },
 "nbformat": 4,
 "nbformat_minor": 5
}
