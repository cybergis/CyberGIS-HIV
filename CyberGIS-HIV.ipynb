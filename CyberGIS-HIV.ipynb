{
 "cells": [
  {
   "attachments": {},
   "cell_type": "markdown",
   "id": "78e95120",
   "metadata": {
    "id": "78e95120"
   },
   "source": [
    "# CyberGIS-HIV \n",
    "\n",
    "CyberGIS-HIV is an application of visualizing spatiotemporal patterns of HIV rate from 2012 to 2021 and estimating HIV rate from 2021 to 2026 for the counties in the United States. With the help of the figure below, users can interact with the two-part model. The analysis will be conducted on the fly and will provide results with a combination of maps and various charts. The application is capable of coordinated and multiple views (CMV), which is a dynamic visual interface in which multiple data representations such as maps and charts are interactively linked to each other. CMV allows users to explore spatial data from various perspectives and enable thinking in complex decision-making tasks.\n",
    "\n",
    "## How to run the model\n",
    "A user needs to run the following two cells **consecutively** before running the actual model. While a cell is selected with a blue color boundary, click “Run” button at the top to execute codes. \n",
    "\n",
    "![](./images/how_to_run.jpg)\n",
    "\n",
    "When the two cells run correctly, you will see the dialog below. A user needs to name your analysis, define variable weights, and select advanced plots. \n",
    "![](./images/workflow.jpg)\n",
    "\n",
    "After selecting values, click **Create Visualization** button to run the model. "
   ]
  },
  {
   "cell_type": "markdown",
   "id": "52b2d214",
   "metadata": {
    "id": "52b2d214"
   },
   "source": [
    "## Setup environment"
   ]
  },
  {
   "cell_type": "code",
   "execution_count": null,
   "id": "9d3a83c2",
   "metadata": {
    "id": "9d3a83c2"
   },
   "outputs": [],
   "source": [
    "from Scenario_Analysis_Mapper import Display_GUI"
   ]
  },
  {
   "cell_type": "markdown",
   "id": "ed9ba394",
   "metadata": {
    "id": "ed9ba394"
   },
   "source": [
    "## Run your own model"
   ]
  },
  {
   "cell_type": "code",
   "execution_count": null,
   "id": "a1656d47",
   "metadata": {
    "id": "a1656d47"
   },
   "outputs": [],
   "source": [
    "Display_GUI()"
   ]
  }
 ],
 "metadata": {
  "colab": {
   "name": "Scenario_Analysis_Mapper_withGUI.ipynb",
   "provenance": []
  },
  "kernelspec": {
   "display_name": "HIV-Python3",
   "language": "python",
   "name": "hiv-1.0.0"
  },
  "language_info": {
   "codemirror_mode": {
    "name": "ipython",
    "version": 3
   },
   "file_extension": ".py",
   "mimetype": "text/x-python",
   "name": "python",
   "nbconvert_exporter": "python",
   "pygments_lexer": "ipython3",
   "version": "3.8.12"
  }
 },
 "nbformat": 4,
 "nbformat_minor": 5
}
