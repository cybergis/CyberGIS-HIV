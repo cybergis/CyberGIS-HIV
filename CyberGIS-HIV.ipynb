{
 "cells": [
  {
   "cell_type": "markdown",
   "id": "78e95120",
   "metadata": {
    "id": "78e95120"
   },
   "source": [
    "## How to run the model\n",
    "Run each of two cells below. The **blue boundary** means that the cell is selected. Once it is selected, click the **Run** button on the tab to execute. <br>\n",
    "\n",
    "<img src=\"./images/how_to_run.jpg\" width=\"90%\"/>\n",
    "<br><br>\n",
    "\n",
    "## Scenario Analysis Mapper\n",
    "\n",
    "Once the above two cells are executed, the dialog box will be shown like the image below. <br>\n",
    "Follow steps 1, 2, and 3, and click the **Create Visualization** button to proceed.\n",
    "<br><br>\n",
    "\n",
    "\n",
    "<img src=\"./images/workflow.jpg\" width=\"90%\"/>\n"
   ]
  },
  {
   "cell_type": "markdown",
   "id": "52b2d214",
   "metadata": {
    "id": "52b2d214"
   },
   "source": [
    "## Setup environment"
   ]
  },
  {
   "cell_type": "code",
   "execution_count": null,
   "id": "9d3a83c2",
   "metadata": {
    "id": "9d3a83c2"
   },
   "outputs": [],
   "source": [
    "from Scenario_Analysis_Mapper import Display_GUI"
   ]
  },
  {
   "cell_type": "markdown",
   "id": "ed9ba394",
   "metadata": {
    "id": "ed9ba394"
   },
   "source": [
    "## Run your own model"
   ]
  },
  {
   "cell_type": "code",
   "execution_count": null,
   "id": "a1656d47",
   "metadata": {
    "id": "a1656d47",
    "scrolled": false
   },
   "outputs": [],
   "source": [
    "Display_GUI()"
   ]
  }
 ],
 "metadata": {
  "colab": {
   "name": "Scenario_Analysis_Mapper_withGUI.ipynb",
   "provenance": []
  },
  "kernelspec": {
   "display_name": "HIV-Python3",
   "language": "python",
   "name": "hiv-1.0.0"
  },
  "language_info": {
   "codemirror_mode": {
    "name": "ipython",
    "version": 3
   },
   "file_extension": ".py",
   "mimetype": "text/x-python",
   "name": "python",
   "nbconvert_exporter": "python",
   "pygments_lexer": "ipython3",
   "version": "3.8.12"
  }
 },
 "nbformat": 4,
 "nbformat_minor": 5
}
