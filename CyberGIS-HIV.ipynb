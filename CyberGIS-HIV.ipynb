{
 "cells": [
  {
   "cell_type": "markdown",
   "id": "78e95120",
   "metadata": {
    "id": "78e95120"
   },
   "source": [
    "## How to run the model\n",
    "A user needs to run the following two cells **consecutively** before running the actual model. While a cell is selected with a blue color boundary, click “Run” button at the top to execute codes. \n",
    "\n",
    "<img src=\"./images/how_to_run.jpg\" width=\"90%\"/>\n",
    "<br><br>\n",
    "\n",
    "When the two cells run correctly, you will see the dialog below. A user needs to name your analysis, define variable weights, and select advanced plots. <br> After selecting values, click **Create Visualization** button to run the model. \n",
    "<br><br>\n",
    "\n",
    "\n",
    "<img src=\"./images/workflow.jpg\" width=\"90%\"/>\n"
   ]
  },
  {
   "cell_type": "markdown",
   "id": "52b2d214",
   "metadata": {
    "id": "52b2d214"
   },
   "source": [
    "## Setup environment"
   ]
  },
  {
   "cell_type": "code",
   "execution_count": null,
   "id": "9d3a83c2",
   "metadata": {
    "id": "9d3a83c2"
   },
   "outputs": [],
   "source": [
    "from Scenario_Analysis_Mapper import Display_GUI"
   ]
  },
  {
   "cell_type": "markdown",
   "id": "ed9ba394",
   "metadata": {
    "id": "ed9ba394"
   },
   "source": [
    "## Run your own model"
   ]
  },
  {
   "cell_type": "code",
   "execution_count": null,
   "id": "a1656d47",
   "metadata": {
    "id": "a1656d47",
    "scrolled": false
   },
   "outputs": [],
   "source": [
    "Display_GUI()"
   ]
  }
 ],
 "metadata": {
  "colab": {
   "name": "Scenario_Analysis_Mapper_withGUI.ipynb",
   "provenance": []
  },
  "kernelspec": {
   "display_name": "HIV-Python3",
   "language": "python",
   "name": "hiv-1.0.0"
  },
  "language_info": {
   "codemirror_mode": {
    "name": "ipython",
    "version": 3
   },
   "file_extension": ".py",
   "mimetype": "text/x-python",
   "name": "python",
   "nbconvert_exporter": "python",
   "pygments_lexer": "ipython3",
   "version": "3.8.12"
  }
 },
 "nbformat": 4,
 "nbformat_minor": 5
}
