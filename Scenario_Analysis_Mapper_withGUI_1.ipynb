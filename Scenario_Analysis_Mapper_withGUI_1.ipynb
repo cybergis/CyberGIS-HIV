{
 "cells": [
  {
   "cell_type": "markdown",
   "id": "78e95120",
   "metadata": {
    "id": "78e95120"
   },
   "source": [
    "## Three Different Visualizations for Scenario Analysis for HIV Data "
   ]
  },
  {
   "cell_type": "markdown",
   "id": "52b2d214",
   "metadata": {
    "id": "52b2d214"
   },
   "source": [
    "### Setup environment"
   ]
  },
  {
   "cell_type": "code",
   "execution_count": 1,
   "id": "9d3a83c2",
   "metadata": {
    "id": "9d3a83c2"
   },
   "outputs": [],
   "source": [
    "from Scenario_Analysis_Mapper import Display_GUI"
   ]
  },
  {
   "cell_type": "markdown",
   "id": "ed9ba394",
   "metadata": {
    "id": "ed9ba394"
   },
   "source": [
    "## Create Your Own Visualization"
   ]
  },
  {
   "cell_type": "code",
   "execution_count": 3,
   "id": "e8fbab9f",
   "metadata": {},
   "outputs": [
    {
     "data": {
      "text/html": [
       "<style>\n",
       ".mytext > .widget-label {\n",
       "    color: blue;\n",
       "    font-size: 15px;\n",
       "    font-family: Times New Roman;\n",
       "\n",
       "}\n",
       ".mytext > input[type=\"text\"] {\n",
       "    font-size: 20px;\n",
       "    color: red;\n",
       "}\n",
       "</style>\n"
      ],
      "text/plain": [
       "<IPython.core.display.HTML object>"
      ]
     },
     "metadata": {},
     "output_type": "display_data"
    }
   ],
   "source": [
    "%%html\n",
    "<style>\n",
    ".mytext > .widget-label {\n",
    "    color: blue;\n",
    "    font-size: 15px;\n",
    "    font-family: Times New Roman;\n",
    "\n",
    "}\n",
    ".mytext > input[type=\"text\"] {\n",
    "    font-size: 20px;\n",
    "    color: red;\n",
    "}\n",
    "</style>"
   ]
  },
  {
   "cell_type": "code",
   "execution_count": 2,
   "id": "a1656d47",
   "metadata": {
    "id": "a1656d47"
   },
   "outputs": [
    {
     "data": {
      "application/vnd.jupyter.widget-view+json": {
       "model_id": "e7d527b235e343b8a8d1e9049065dd8f",
       "version_major": 2,
       "version_minor": 0
      },
      "text/plain": [
       "Tab(children=(VBox(children=(Box(children=(Label(value='How do you want to name the result?', layout=Layout(wi…"
      ]
     },
     "metadata": {},
     "output_type": "display_data"
    },
    {
     "data": {
      "application/vnd.jupyter.widget-view+json": {
       "model_id": "e5c2a889bdb6417bbbc1cf95dd428def",
       "version_major": 2,
       "version_minor": 0
      },
      "text/plain": [
       "HBox(children=(Button(button_style='success', description='Create Visualization', style=ButtonStyle()), Label(…"
      ]
     },
     "metadata": {},
     "output_type": "display_data"
    },
    {
     "data": {
      "application/vnd.jupyter.widget-view+json": {
       "model_id": "22fcb28742ac4241801ec10349046ca3",
       "version_major": 2,
       "version_minor": 0
      },
      "text/plain": [
       "Output()"
      ]
     },
     "metadata": {},
     "output_type": "display_data"
    }
   ],
   "source": [
    "Display_GUI()"
   ]
  },
  {
   "cell_type": "code",
   "execution_count": null,
   "id": "408b7000",
   "metadata": {},
   "outputs": [],
   "source": []
  },
  {
   "cell_type": "code",
   "execution_count": null,
   "outputs": [],
   "source": [
    "print(\"Hello World\")"
   ],
   "metadata": {
    "collapsed": false,
    "pycharm": {
     "name": "#%%\n"
    }
   }
  }
 ],
 "metadata": {
  "colab": {
   "name": "Scenario_Analysis_Mapper_withGUI.ipynb",
   "provenance": []
  },
  "kernelspec": {
   "display_name": "HIV-Python3",
   "language": "python",
   "name": "hiv-1.0.0"
  },
  "language_info": {
   "codemirror_mode": {
    "name": "ipython",
    "version": 3
   },
   "file_extension": ".py",
   "mimetype": "text/x-python",
   "name": "python",
   "nbconvert_exporter": "python",
   "pygments_lexer": "ipython3",
   "version": "3.8.12"
  }
 },
 "nbformat": 4,
 "nbformat_minor": 5
}