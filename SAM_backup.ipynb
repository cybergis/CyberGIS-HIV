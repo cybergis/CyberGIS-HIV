{
 "cells": [
  {
   "cell_type": "markdown",
   "id": "e8abbdd5",
   "metadata": {},
   "source": [
    "## Three Different Visualizations for Scenario Analysis for HIV Data "
   ]
  },
  {
   "cell_type": "markdown",
   "id": "787d719f",
   "metadata": {},
   "source": [
    "### Setup environment"
   ]
  },
  {
   "cell_type": "code",
   "execution_count": 1,
   "id": "55252458",
   "metadata": {
    "scrolled": true
   },
   "outputs": [
    {
     "name": "stdout",
     "output_type": "stream",
     "text": [
      "Defaulting to user installation because normal site-packages is not writeable\n",
      "Requirement already satisfied: rpy2[all] in /home/jovyan/.local/lib/python3.8/site-packages (3.4.5)\n",
      "Requirement already satisfied: cffi>=1.10.0 in /data/cigi/cybergisx-easybuild/conda/python3-0.8.0/lib/python3.8/site-packages (from rpy2[all]) (1.14.0)\n",
      "Requirement already satisfied: tzlocal in /home/jovyan/.local/lib/python3.8/site-packages (from rpy2[all]) (4.1)\n",
      "Requirement already satisfied: jinja2 in /data/cigi/cybergisx-easybuild/conda/python3-0.8.0/lib/python3.8/site-packages (from rpy2[all]) (2.11.1)\n",
      "Requirement already satisfied: pytz in /data/cigi/cybergisx-easybuild/conda/python3-0.8.0/lib/python3.8/site-packages (from rpy2[all]) (2019.3)\n",
      "Requirement already satisfied: numpy; extra == \"all\" in /data/cigi/cybergisx-easybuild/conda/python3-0.8.0/lib/python3.8/site-packages (from rpy2[all]) (1.18.1)\n",
      "Requirement already satisfied: pandas; extra == \"all\" in /data/cigi/cybergisx-easybuild/conda/python3-0.8.0/lib/python3.8/site-packages (from rpy2[all]) (1.0.3)\n",
      "Requirement already satisfied: pytest; extra == \"all\" in /home/jovyan/.local/lib/python3.8/site-packages (from rpy2[all]) (6.2.5)\n",
      "Requirement already satisfied: pycparser in /data/cigi/cybergisx-easybuild/conda/python3-0.8.0/lib/python3.8/site-packages (from cffi>=1.10.0->rpy2[all]) (2.20)\n",
      "Requirement already satisfied: pytz-deprecation-shim in /home/jovyan/.local/lib/python3.8/site-packages (from tzlocal->rpy2[all]) (0.1.0.post0)\n",
      "Requirement already satisfied: backports.zoneinfo; python_version < \"3.9\" in /home/jovyan/.local/lib/python3.8/site-packages (from tzlocal->rpy2[all]) (0.2.1)\n",
      "Requirement already satisfied: MarkupSafe>=0.23 in /data/cigi/cybergisx-easybuild/conda/python3-0.8.0/lib/python3.8/site-packages (from jinja2->rpy2[all]) (1.1.1)\n",
      "Requirement already satisfied: python-dateutil>=2.6.1 in /data/cigi/cybergisx-easybuild/conda/python3-0.8.0/lib/python3.8/site-packages (from pandas; extra == \"all\"->rpy2[all]) (2.8.2)\n",
      "Requirement already satisfied: packaging in /data/cigi/cybergisx-easybuild/conda/python3-0.8.0/lib/python3.8/site-packages (from pytest; extra == \"all\"->rpy2[all]) (20.1)\n",
      "Requirement already satisfied: toml in /home/jovyan/.local/lib/python3.8/site-packages (from pytest; extra == \"all\"->rpy2[all]) (0.10.2)\n",
      "Requirement already satisfied: pluggy<2.0,>=0.12 in /home/jovyan/.local/lib/python3.8/site-packages (from pytest; extra == \"all\"->rpy2[all]) (1.0.0)\n",
      "Requirement already satisfied: iniconfig in /home/jovyan/.local/lib/python3.8/site-packages (from pytest; extra == \"all\"->rpy2[all]) (1.1.1)\n",
      "Requirement already satisfied: py>=1.8.2 in /home/jovyan/.local/lib/python3.8/site-packages (from pytest; extra == \"all\"->rpy2[all]) (1.11.0)\n",
      "Requirement already satisfied: attrs>=19.2.0 in /data/cigi/cybergisx-easybuild/conda/python3-0.8.0/lib/python3.8/site-packages (from pytest; extra == \"all\"->rpy2[all]) (19.3.0)\n",
      "Requirement already satisfied: tzdata; python_version >= \"3.6\" in /home/jovyan/.local/lib/python3.8/site-packages (from pytz-deprecation-shim->tzlocal->rpy2[all]) (2021.5)\n",
      "Requirement already satisfied: six>=1.5 in /data/cigi/cybergisx-easybuild/conda/python3-0.8.0/lib/python3.8/site-packages (from python-dateutil>=2.6.1->pandas; extra == \"all\"->rpy2[all]) (1.14.0)\n",
      "Requirement already satisfied: pyparsing>=2.0.2 in /data/cigi/cybergisx-easybuild/conda/python3-0.8.0/lib/python3.8/site-packages (from packaging->pytest; extra == \"all\"->rpy2[all]) (2.4.6)\n"
     ]
    }
   ],
   "source": [
    "# add R to the path\n",
    "import os\n",
    "os.environ[\"PATH\"] += os.pathsep + \"/data/cigi/cybergisx-easybuild/conda/r-2021-08-18/lib/R/bin/\"\n",
    "# install rpy2 to your local packages\n",
    "!pip install rpy2[all]"
   ]
  },
  {
   "cell_type": "code",
   "execution_count": 8,
   "id": "2b78bbc3",
   "metadata": {},
   "outputs": [],
   "source": [
    "import sys, site\n",
    "sys.path.append(site.getusersitepackages())  # user your local packages\n",
    "import rpy2\n",
    "from Scenario_Analysis_Mapper import Scenario_Analysis\n",
    "from Scenario_Analysis_Mapper import Scenario_Analysis_log"
   ]
  },
  {
   "cell_type": "markdown",
   "id": "ef276af1",
   "metadata": {},
   "source": [
    "## 1. Visualization of Multiple Line Chart (MLC)"
   ]
  },
  {
   "cell_type": "code",
   "execution_count": 9,
   "id": "5f037329",
   "metadata": {},
   "outputs": [
    {
     "name": "stdout",
     "output_type": "stream",
     "text": [
      "output directory :  SAM_HIV_MLC\n",
      "Time difference of 0.442378 secs\n",
      "Time difference of 4.108393 secs\n",
      "Time difference of 7.835163 secs\n",
      "Time difference of 0.05962753 secs\n",
      "To see your visualization, click the URL below (or locate the files):\n",
      "https://cybergisx.cigi.illinois.edu/user/suhan2/view/Scenario_Analysis_Mapper/SAM_HIV_MLC/index.html\n",
      "To access all visualizations that you have created, click the URL below (or locate the files):\n",
      "https://cybergisx.cigi.illinois.edu/user/suhan2/view/Scenario_Analysis_Mapper/log.html\n",
      "Advanced options are available in \n",
      "https://cybergisx.cigi.illinois.edu/user/suhan2/edit/Scenario_Analysis_Mapper/SAM_HIV_MLC/data/CONFIG_HIV_MLC.js\n"
     ]
    }
   ],
   "source": [
    "param = {\n",
    "    'title': \"HIV Scenario Analysis from 2012 to 2026, United States\",\n",
    "    'Subject': \"HIV Rate and Affecting Factors <font color='grey' size='-1'>&nbsp;&nbsp;(Highlighted Area: Predicted Values)</font>\",\n",
    "    'filename_suffix': \"HIV_MLC\",                       # max 30 character \n",
    "    'InitialLayers': [\"2012_HIV Rate\", \"2026_HIV Rate\"],\n",
    "    'shapefile': 'shp/US/counties.shp',\n",
    "    #'inputCSV': \"data_imputedx.csv\",                   # a file in the data directory for forecast_func.R\n",
    "    'Scenario': {'var_names': [\"illicit\", \"fedqualifiedhealthcenters\",\"linkage_perc\"], 'var_muls': [2,2,2]},\n",
    "    'easy2read': {'Rate': 'HIV Rate', 'linkage_perc': 'Viral Load Test within 1 Month of Diagnosis (/100k pop)', \n",
    "        'illicit': 'Rate of Illicit Drug Use', 'fedqualifiedhealthcenters': 'Health Care Center (/100k pop)'},\n",
    "    'Initial_map_center': [37, -97],          # Map center and zoom level are computed automatically\n",
    "    'Initial_map_zoom_level': 4,                        # But enter them if you want to zoom in a specifice region.\n",
    "    'Top10_Chart': True,\n",
    "    'NumOfMLC': 4,\n",
    "    'InitialVariableMLC': ['HIV Rate', 'Viral Load Test within 1 Month of Diagnosis (/100k pop)', 'Rate of Illicit Drug Use', \n",
    "        'Health Care Center (/100k pop)'],\n",
    "    'Multiple_Line_Chart': True,\n",
    "    'HighlightMLC': [[\"2019\",\"2026\",\"#fdff32\"]], #Highlight line chart area for prediction\n",
    "}\n",
    "\n",
    "Scenario_Analysis(param)\n",
    "Scenario_Analysis_log(param)"
   ]
  },
  {
   "cell_type": "markdown",
   "id": "603f3711",
   "metadata": {},
   "source": [
    "## 2. Visualization of Comparison Line Chart (CLC)"
   ]
  },
  {
   "cell_type": "code",
   "execution_count": 4,
   "id": "37955e39",
   "metadata": {},
   "outputs": [
    {
     "name": "stdout",
     "output_type": "stream",
     "text": [
      "output directory :  SAM_HIV_CLC\n",
      "Time difference of 0.453217 secs\n",
      "Time difference of 4.911678 secs\n",
      "Time difference of 8.52513 secs\n",
      "Time difference of 0.05147004 secs\n",
      "To see your visualization, click the URL below (or locate the files):\n",
      "https://cybergisx.cigi.illinois.edu/user/suhan2/view/Scenario_Analysis_Mapper/SAM_HIV_CLC/index.html\n",
      "To access all visualizations that you have created, click the URL below (or locate the files):\n",
      "https://cybergisx.cigi.illinois.edu/user/suhan2/view/Scenario_Analysis_Mapper/log.html\n",
      "Advanced options are available in \n",
      "https://cybergisx.cigi.illinois.edu/user/suhan2/edit/Scenario_Analysis_Mapper/SAM_HIV_CLC/data/CONFIG_HIV_CLC.js\n"
     ]
    }
   ],
   "source": [
    "param = {\n",
    "    'title': \"HIV Scenario Analysis from 2012 to 2026, United States\",\n",
    "    'Subject': \"HIV Rate\",\n",
    "    'filename_suffix': \"HIV_CLC\",                                       # max 30 character  \n",
    "    'InitialLayers': [\"2012_HIV Rate\", \"2026_HIV Rate\"],\n",
    "    #'inputCSV': \"data_imputedx.csv\",                    # a file in the data directory for forecast_func.R\n",
    "    'shapefile': 'shp/US/counties.shp',\n",
    "    'easy2read': {'Rate': 'HIV Rate', 'linkage_perc': 'Viral Load Test within 1 Month of Diagnosis (/100k pop)', \n",
    "       'illicit': 'Rate of Illicit Drug Use', 'fedqualifiedhealthcenters': 'Health Care Center (/100k pop)'},\n",
    "    'Initial_map_center': [37, -97],          # Map center and zoom level are computed automatically\n",
    "    'Initial_map_zoom_level': 4,                        # But enter them if you want to zoom in a specifice region.\n",
    "    'Top10_Chart': True,\n",
    "    'NumOfCLC': 11,\n",
    "    'InitialVariableCLC': [ '2012_HIV Rate', '2013_HIV Rate', '2014_HIV Rate', '2015_HIV Rate', \n",
    "                            '2016_HIV Rate', '2017_HIV Rate', '2018_HIV Rate', '2019_HIV Rate', \n",
    "                            '2020_HIV Rate', '2021_HIV Rate', '2022_HIV Rate', '2023_HIV Rate', \n",
    "                            '2024_HIV Rate', '2025_HIV Rate', '2026_HIV Rate'  ],\n",
    "    'Comparision_Chart': True,  \n",
    "}\n",
    "\n",
    "Scenario_Analysis(param)\n",
    "Scenario_Analysis_log(param)"
   ]
  },
  {
   "cell_type": "markdown",
   "id": "0c5fa09f",
   "metadata": {},
   "source": [
    "## 3. Visualization of Parallel Coordinate Plot (PCP)"
   ]
  },
  {
   "cell_type": "code",
   "execution_count": 5,
   "id": "9425d37b",
   "metadata": {},
   "outputs": [
    {
     "name": "stdout",
     "output_type": "stream",
     "text": [
      "output directory :  SAM_HIV_PCP\n",
      "Time difference of 0.4470258 secs\n",
      "Time difference of 5.263525 secs\n",
      "Time difference of 8.398577 secs\n",
      "Time difference of 0.05144739 secs\n",
      "To see your visualization, click the URL below (or locate the files):\n",
      "https://cybergisx.cigi.illinois.edu/user/suhan2/view/Scenario_Analysis_Mapper/SAM_HIV_PCP/index.html\n",
      "To access all visualizations that you have created, click the URL below (or locate the files):\n",
      "https://cybergisx.cigi.illinois.edu/user/suhan2/view/Scenario_Analysis_Mapper/log.html\n",
      "Advanced options are available in \n",
      "https://cybergisx.cigi.illinois.edu/user/suhan2/edit/Scenario_Analysis_Mapper/SAM_HIV_PCP/data/CONFIG_HIV_PCP.js\n"
     ]
    }
   ],
   "source": [
    "param = {\n",
    "    'title': \"HIV Scenario Analysis from 2012 to 2026, United States\",\n",
    "    'Subject': \"HIV Rate\",\n",
    "    'filename_suffix': \"HIV_PCP\",                                       # max 30 character  \n",
    "    'InitialLayers': [\"2012_HIV Rate\", \"2026_HIV Rate\"],\n",
    "    #'inputCSV': \"data_imputedx.csv\",                    # a file in the data directory for forecast_func.R\n",
    "    'shapefile': 'shp/US/counties.shp',\n",
    "    'easy2read': {'Rate': 'HIV Rate', 'linkage_perc': 'Viral Load Test within 1 Month of Diagnosis (/100k pop)', \n",
    "       'illicit': 'Rate of Illicit Drug Use', 'fedqualifiedhealthcenters': 'Health Care Center (/100k pop)'},\n",
    "    'Initial_map_center': [37, -97],          # Map center and zoom level are computed automatically\n",
    "    'Initial_map_zoom_level': 4,                        # But enter them if you want to zoom in a specifice region.\n",
    "    'Top10_Chart': True,\n",
    "    'NumOfPCP': 11,\n",
    "    'InitialVariablePCP': [ '2012_HIV Rate', '2013_HIV Rate', '2014_HIV Rate', '2015_HIV Rate', \n",
    "                            '2016_HIV Rate', '2017_HIV Rate', '2018_HIV Rate', '2019_HIV Rate', \n",
    "                            '2020_HIV Rate', '2021_HIV Rate', '2022_HIV Rate' ],\n",
    "    'Parallel_Coordinates_Plot': True,\n",
    "}\n",
    "\n",
    "Scenario_Analysis(param)\n",
    "Scenario_Analysis_log(param)"
   ]
  },
  {
   "cell_type": "markdown",
   "id": "df0dfe0d",
   "metadata": {},
   "source": [
    "### More example visualizations of MLC"
   ]
  },
  {
   "cell_type": "code",
   "execution_count": 6,
   "id": "b00c1dc6",
   "metadata": {
    "scrolled": true
   },
   "outputs": [
    {
     "name": "stdout",
     "output_type": "stream",
     "text": [
      "output directory :  SAM_HIV_MLC_sample1\n",
      "Time difference of 0.4457364 secs\n",
      "Time difference of 4.289239 secs\n",
      "Time difference of 8.460322 secs\n",
      "Time difference of 0.05128932 secs\n",
      "To see your visualization, click the URL below (or locate the files):\n",
      "https://cybergisx.cigi.illinois.edu/user/suhan2/view/Scenario_Analysis_Mapper/SAM_HIV_MLC_sample1/index.html\n",
      "To access all visualizations that you have created, click the URL below (or locate the files):\n",
      "https://cybergisx.cigi.illinois.edu/user/suhan2/view/Scenario_Analysis_Mapper/log.html\n",
      "Advanced options are available in \n",
      "https://cybergisx.cigi.illinois.edu/user/suhan2/edit/Scenario_Analysis_Mapper/SAM_HIV_MLC_sample1/data/CONFIG_HIV_MLC_sample1.js\n"
     ]
    }
   ],
   "source": [
    "param = {\n",
    "    'title': \"HIV Scenario Analysis from 2012 to 2026, United States\",\n",
    "    'Subject': \"HIV Rate and Affecting Factors <font color='grey' size='-1'>&nbsp;&nbsp;(Highlighted Area: Predicted Values)</font>\",\n",
    "    'filename_suffix': \"HIV_MLC_sample1\",                       # max 30 character \n",
    "    'InitialLayers': [\"2012_HIV Rate\", \"2026_HIV Rate\"],\n",
    "    'shapefile': 'shp/US/counties.shp',\n",
    "    #'inputCSV': \"data_imputedx.csv\",                   # a file in the data directory for forecast_func.R\n",
    "    'Scenario': {'var_names': [\"illicit\", \"fedqualifiedhealthcenters\",\"linkage_perc\"], 'var_muls': [1,1,1]},\n",
    "    'easy2read': {'Rate': 'HIV Rate', 'linkage_perc': 'Viral Load Test within 1 Month of Diagnosis (/100k pop)', \n",
    "        'illicit': 'Rate of Illicit Drug Use', 'fedqualifiedhealthcenters': 'Health Care Center (/100k pop)'},\n",
    "    'NumOfMaps':1,\n",
    "    'Map_width':\"1000px\",\n",
    "    'Initial_map_center': [37, -97],          # Map center and zoom level are computed automatically\n",
    "    'Initial_map_zoom_level': 4,                        # But enter them if you want to zoom in a specifice region.\n",
    "    'Top10_Chart': False,\n",
    "    'NumOfMLC': 4,\n",
    "    'InitialVariableMLC': ['HIV Rate', 'HIV Test (/100k pop)', 'Rate of Illicit Drug Use', \n",
    "        'Health Care Center (/100k pop)'],\n",
    "    'Multiple_Line_Chart': True,\n",
    "    'HighlightMLC': [[\"2019\",\"2026\",\"#fdff32\"]], #Highlight line chart area for prediction\n",
    "}\n",
    "\n",
    "Scenario_Analysis(param)\n",
    "Scenario_Analysis_log(param)"
   ]
  },
  {
   "cell_type": "markdown",
   "id": "56be27cd",
   "metadata": {},
   "source": [
    "### More example visualizations of MLC"
   ]
  },
  {
   "cell_type": "code",
   "execution_count": 7,
   "id": "0c3d2c63",
   "metadata": {},
   "outputs": [
    {
     "name": "stdout",
     "output_type": "stream",
     "text": [
      "output directory :  SAM_HIV_MLC_sample2\n",
      "Time difference of 0.4460247 secs\n",
      "Time difference of 4.188016 secs\n",
      "Time difference of 8.069587 secs\n",
      "Time difference of 0.05203795 secs\n",
      "To see your visualization, click the URL below (or locate the files):\n",
      "https://cybergisx.cigi.illinois.edu/user/suhan2/view/Scenario_Analysis_Mapper/SAM_HIV_MLC_sample2/index.html\n",
      "To access all visualizations that you have created, click the URL below (or locate the files):\n",
      "https://cybergisx.cigi.illinois.edu/user/suhan2/view/Scenario_Analysis_Mapper/log.html\n",
      "Advanced options are available in \n",
      "https://cybergisx.cigi.illinois.edu/user/suhan2/edit/Scenario_Analysis_Mapper/SAM_HIV_MLC_sample2/data/CONFIG_HIV_MLC_sample2.js\n"
     ]
    }
   ],
   "source": [
    "param = {\n",
    "    'title': \"HIV Scenario Analysis from 2012 to 2026, United States\",\n",
    "    'Subject': \"HIV Rate and Affecting Factors <font color='grey' size='-1'>&nbsp;&nbsp;(Highlighted Area: Predicted Values)</font>\",\n",
    "    'filename_suffix': \"HIV_MLC_sample2\",                       # max 30 character \n",
    "    'InitialLayers': [\"2012_HIV Rate\", \"2026_HIV Rate\"],\n",
    "    'shapefile': 'shp/US/counties.shp',\n",
    "    #'inputCSV': \"data_imputedx.csv\",                   # a file in the data directory for forecast_func.R\n",
    "    'Scenario': {'var_names': [\"illicit\", \"fedqualifiedhealthcenters\",\"linkage_perc\"], 'var_muls': [5,1,1]},\n",
    "    'easy2read': {'Rate': 'HIV Rate', 'linkage_perc': 'Viral Load Test within 1 Month of Diagnosis (/100k pop)', \n",
    "        'illicit': 'Rate of Illicit Drug Use', 'fedqualifiedhealthcenters': 'Health Care Center (/100k pop)'},\n",
    "    'NumOfMaps':1,\n",
    "    'Map_width':\"1000px\",    \n",
    "    'Initial_map_center': [37, -97],          # Map center and zoom level are computed automatically\n",
    "    'Initial_map_zoom_level': 4,                        # But enter them if you want to zoom in a specifice region.\n",
    "    'Top10_Chart': False,\n",
    "    'NumOfMLC': 4,\n",
    "    'InitialVariableMLC': ['HIV Rate', 'HIV Test (/100k pop)', 'Rate of Illicit Drug Use', \n",
    "        'Health Care Center (/100k pop)'],\n",
    "    'Multiple_Line_Chart': True,\n",
    "    'HighlightMLC': [[\"2019\",\"2026\",\"#fdff32\"]], #Highlight line chart area for prediction\n",
    "}\n",
    "\n",
    "Scenario_Analysis(param)\n",
    "Scenario_Analysis_log(param)"
   ]
  },
  {
   "cell_type": "code",
   "execution_count": null,
   "id": "30dc2c67",
   "metadata": {},
   "outputs": [],
   "source": []
  }
 ],
 "metadata": {
  "kernelspec": {
   "display_name": "Python 3 (ipykernel)",
   "language": "python",
   "name": "python3"
  },
  "language_info": {
   "codemirror_mode": {
    "name": "ipython",
    "version": 3
   },
   "file_extension": ".py",
   "mimetype": "text/x-python",
   "name": "python",
   "nbconvert_exporter": "python",
   "pygments_lexer": "ipython3",
   "version": "3.9.7"
  }
 },
 "nbformat": 4,
 "nbformat_minor": 5
}
